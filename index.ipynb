{
 "cells": [
  {
   "cell_type": "markdown",
   "metadata": {
    "slideshow": {
     "slide_type": "slide"
    }
   },
   "source": [
    "Introduction to Python\n",
    "================================\n",
    "\n",
    "Lesson 1\n",
    "--------"
   ]
  },
  {
   "cell_type": "markdown",
   "metadata": {
    "slideshow": {
     "slide_type": "slide"
    }
   },
   "source": [
    "## Summary\n",
    "This course will be divided in 4 lessons, each one with a theoretical introduction followed by a coding session.\n",
    "\n",
    "The arguments will be the following:\n",
    "  1. Introduction to Python\n",
    "  2. Linear and non-linear models\n",
    "  3. Tensorflow\n",
    "  4. More in depth \n"
   ]
  },
  {
   "cell_type": "markdown",
   "metadata": {
    "slideshow": {
     "slide_type": "slide"
    }
   },
   "source": [
    "## What is Python (wiki)?\n",
    "\n",
    "Python is an interpreted high-level programming language for general-purpose programming. Created by Guido van Rossum and first released in 1991, Python has a design philosophy that emphasizes code readability, notably using significant whitespace. It provides constructs that enable clear programming on both small and large scales\n",
    "\n",
    "Python features a dynamic type system and automatic memory management. It supports multiple programming paradigms, including object-oriented, imperative, functional and procedural, and has a large and comprehensive standard library.\n",
    "\n"
   ]
  },
  {
   "cell_type": "markdown",
   "metadata": {
    "slideshow": {
     "slide_type": "slide"
    }
   },
   "source": [
    "## What is Python (Me)?\n",
    "Python it’s a very flessibile and well supported programming language.\n",
    "It handles well different kind of data:\n",
    "\n",
    "  - Data (.csv,excel, data frames….)\n",
    "  - Text \n",
    "  - JSON, Html, XML\n",
    "  \n",
    "It can be used as imperative, but shows his best using function and classes.\n",
    "\n",
    "It uses heavily white spaces and indentation in order to make it easily readable."
   ]
  },
  {
   "cell_type": "markdown",
   "metadata": {
    "slideshow": {
     "slide_type": "fragment"
    }
   },
   "source": [
    "**BE AWARE OF THE SPACES!**"
   ]
  },
  {
   "cell_type": "markdown",
   "metadata": {
    "slideshow": {
     "slide_type": "slide"
    }
   },
   "source": [
    "## Comparison with R \n",
    "\n",
    "R is a language and environment for statistical computing and graphics.\n",
    "\n",
    "R in an interpreted language.\n",
    "\n",
    "R supports procedural programming with functions and, for some functions, object-oriented programming with generic functions. A generic function acts differently depending on the classes of arguments passed to it. In other words, the generic function dispatches the function (method) specific to that class of object. For example, R has a generic print function that can print almost every class of object in R with a simple print(objectname) syntax.\n",
    "\n",
    "Each elemt in R is a vector. Even `2+2` is done as sum of two vector.\n"
   ]
  },
  {
   "cell_type": "code",
   "execution_count": 4,
   "metadata": {},
   "outputs": [],
   "source": [
    "#R 'kernel' to run R chunk\n",
    "%load_ext rpy2.ipython"
   ]
  },
  {
   "cell_type": "code",
   "execution_count": 6,
   "metadata": {
    "slideshow": {
     "slide_type": "subslide"
    }
   },
   "outputs": [
    {
     "data": {
      "text/plain": [
       "[1] \"Calculating the produt\"\n",
       "[1] \"Calculating sum using the function\"\n",
       "[1] \"Sum of three numbers\"\n",
       "[1] \"The product is 610000 the sum 330.5\"\n"
      ]
     },
     "metadata": {},
     "output_type": "display_data"
    }
   ],
   "source": [
    "%%R\n",
    "library(dplyr)\n",
    "library(magrittr)\n",
    "\n",
    "#Defining a simple function\n",
    "simpleSum <- function(a,b,d){\n",
    "  print('Sum of three numbers')\n",
    "  ret=a+b+d\n",
    "  return(ret)\n",
    "}\n",
    "\n",
    "\n",
    "#Variabiles definition\n",
    "a=100\n",
    "b=200\n",
    "d=30.5\n",
    "print(\"Calculating the produt\")\n",
    "p=a*b*d\n",
    "#Calling the function\n",
    "print('Calculating sum using the function')\n",
    "s=simpleSum(a,b,d)\n",
    "print(paste0('The product is ',p,' the sum ', s))\n",
    "# Creating a named vector\n",
    "nv=c(s,p)\n",
    "name=c('sum','product')\n",
    "names(nv)=name\n"
   ]
  },
  {
   "cell_type": "code",
   "execution_count": 10,
   "metadata": {
    "slideshow": {
     "slide_type": "subslide"
    }
   },
   "outputs": [
    {
     "name": "stdout",
     "output_type": "stream",
     "text": [
      "Calculating the produt\n",
      "Calculating sum using the function\n",
      "Sum of three numbers\n",
      "The product is  610000.0 the sum  330.5\n",
      "{'product': 610000.0, 'sum': 330.5}\n"
     ]
    }
   ],
   "source": [
    "import os,sys\n",
    "from pprint import pprint as pp\n",
    "\n",
    "#Defining a simple function\n",
    "def simpleSum(a,b,c):\n",
    "    print(\"Sum of three numbers\")\n",
    "    ret=a+b+c\n",
    "    return ret\n",
    "\n",
    "#Defining the main part of the script\n",
    "def main():\n",
    "    #Variabiles definition\n",
    "    a=100\n",
    "    b=200\n",
    "    c=30.5\n",
    "    print(\"Calculating the produt\")\n",
    "    p=a*b*c\n",
    "    #Calling the function\n",
    "    print('Calculating sum using the function')\n",
    "    s=simpleSum(a,b,c)\n",
    "    print('The product is ',p,'the sum ', s)\n",
    "    # Creating a dictionary\n",
    "    d={'sum':s,'product':p}\n",
    "    pp(d)\n",
    "main()"
   ]
  },
  {
   "cell_type": "markdown",
   "metadata": {
    "slideshow": {
     "slide_type": "slide"
    }
   },
   "source": [
    "## Let's start\n",
    "\n",
    "In this part we will explore Python types.\n",
    "\n",
    "But in order to start we have to load some packages.\n",
    "\n",
    "This import will allow us to use `pprint` just calling `pp` to pretty print dictionaries.\n",
    "\n",
    "We also load a module to run `R` code cells"
   ]
  },
  {
   "cell_type": "code",
   "execution_count": 1,
   "metadata": {
    "slideshow": {
     "slide_type": "fragment"
    }
   },
   "outputs": [],
   "source": [
    "#Python libraries\n",
    "from pprint import pprint as pp\n",
    "from timeit import timeit "
   ]
  },
  {
   "cell_type": "markdown",
   "metadata": {
    "slideshow": {
     "slide_type": "slide"
    }
   },
   "source": [
    "## Types\n",
    "\n",
    "Considering variabiles, the main types in Python are:\n",
    "\n",
    "  - int\n",
    "  - float\n",
    "  - char\n",
    "  - bool\n",
    "  \n",
    "There are also other types, but those are the principals."
   ]
  },
  {
   "cell_type": "code",
   "execution_count": 60,
   "metadata": {
    "slideshow": {
     "slide_type": "subslide"
    }
   },
   "outputs": [
    {
     "name": "stdout",
     "output_type": "stream",
     "text": [
      "type of v_int <class 'int'>\n",
      "type of v_float <class 'float'>\n",
      "type of v_str <class 'str'>\n",
      "type of v_bool <class 'bool'>\n"
     ]
    }
   ],
   "source": [
    "v_int=1\n",
    "print('type of v_int',type(v_int))\n",
    "v_float=1.0\n",
    "print('type of v_float',type(v_float))\n",
    "v_str='Python is fun!'\n",
    "print('type of v_str',type(v_str))\n",
    "v_bool=False\n",
    "print('type of v_bool',type(v_bool))\n"
   ]
  },
  {
   "cell_type": "markdown",
   "metadata": {
    "slideshow": {
     "slide_type": "fragment"
    }
   },
   "source": [
    "We can also change the type of a varibile"
   ]
  },
  {
   "cell_type": "code",
   "execution_count": 4,
   "metadata": {
    "slideshow": {
     "slide_type": "fragment"
    }
   },
   "outputs": [
    {
     "name": "stdout",
     "output_type": "stream",
     "text": [
      "type of v_float <class 'str'> 1.0\n",
      "type of v_bool <class 'str'> False\n",
      "type of v_float <class 'int'> 1\n"
     ]
    }
   ],
   "source": [
    "v_float=str(v_float)\n",
    "print('type of v_float',type(v_float),v_float)\n",
    "v_bool=str(v_bool)\n",
    "print('type of v_bool',type(v_bool),v_bool)\n",
    "v_float=int(v_int)\n",
    "print('type of v_float',type(v_float),v_float)"
   ]
  },
  {
   "cell_type": "code",
   "execution_count": 5,
   "metadata": {
    "slideshow": {
     "slide_type": "subslide"
    }
   },
   "outputs": [
    {
     "name": "stdout",
     "output_type": "stream",
     "text": [
      "type of v_int <class 'float'> 1.0\n"
     ]
    }
   ],
   "source": [
    "v_int=float(v_int)\n",
    "print('type of v_int',type(v_int),v_int)"
   ]
  },
  {
   "cell_type": "markdown",
   "metadata": {
    "slideshow": {
     "slide_type": "slide"
    }
   },
   "source": [
    "## Structures\n",
    "\n",
    "Let's consider data structure in PYthon: list, tuple, set and dictionary\n",
    "\n",
    "### List"
   ]
  },
  {
   "cell_type": "code",
   "execution_count": 7,
   "metadata": {
    "slideshow": {
     "slide_type": "subslide"
    }
   },
   "outputs": [
    {
     "name": "stdout",
     "output_type": "stream",
     "text": [
      "type of l1 <class 'list'>\n",
      "[1, 2, 3]\n",
      "Lenght of the list 3\n"
     ]
    },
    {
     "data": {
      "text/plain": [
       "1"
      ]
     },
     "execution_count": 7,
     "metadata": {},
     "output_type": "execute_result"
    }
   ],
   "source": [
    "a=1\n",
    "b=2\n",
    "c=3\n",
    "l1=[a,b,c]\n",
    "l2=[4,5,6]\n",
    "print('type of l1',type(l1))\n",
    "print(l1)\n",
    "#Lenght of a list\n",
    "print('Lenght of the list',len(l1))\n",
    "# Access element of the list\n",
    "l1[0]"
   ]
  },
  {
   "cell_type": "markdown",
   "metadata": {
    "slideshow": {
     "slide_type": "fragment"
    }
   },
   "source": [
    "**NOTE:** in Python we always start from 0!!!\n",
    "The 3rd elemt in the list is accessible with 2, 3 is not present"
   ]
  },
  {
   "cell_type": "code",
   "execution_count": 22,
   "metadata": {
    "slideshow": {
     "slide_type": "subslide"
    }
   },
   "outputs": [
    {
     "ename": "IndexError",
     "evalue": "list index out of range",
     "output_type": "error",
     "traceback": [
      "\u001b[1;31m---------------------------------------------------------------------------\u001b[0m",
      "\u001b[1;31mIndexError\u001b[0m                                Traceback (most recent call last)",
      "\u001b[1;32m<ipython-input-22-a0f5082a2e0d>\u001b[0m in \u001b[0;36m<module>\u001b[1;34m()\u001b[0m\n\u001b[0;32m      1\u001b[0m \u001b[0ml1\u001b[0m\u001b[1;33m[\u001b[0m\u001b[1;36m2\u001b[0m\u001b[1;33m]\u001b[0m\u001b[1;33m\u001b[0m\u001b[0m\n\u001b[1;32m----> 2\u001b[1;33m \u001b[0ml1\u001b[0m\u001b[1;33m[\u001b[0m\u001b[1;36m3\u001b[0m\u001b[1;33m]\u001b[0m\u001b[1;33m\u001b[0m\u001b[0m\n\u001b[0m",
      "\u001b[1;31mIndexError\u001b[0m: list index out of range"
     ]
    }
   ],
   "source": [
    "l1[2]\n",
    "l1[3]"
   ]
  },
  {
   "cell_type": "markdown",
   "metadata": {
    "slideshow": {
     "slide_type": "fragment"
    }
   },
   "source": [
    "We can add elements to a list and modify it."
   ]
  },
  {
   "cell_type": "code",
   "execution_count": 8,
   "metadata": {
    "slideshow": {
     "slide_type": "subslide"
    }
   },
   "outputs": [
    {
     "name": "stdout",
     "output_type": "stream",
     "text": [
      "[1, 2, 3]\n",
      "[1, 2, 3, 20]\n",
      "[10, 2, 3, 20]\n",
      "[10, 2, 3, 20, 4, 5, 6]\n",
      "[1, 2, 3, [4, 5, 6]]\n"
     ]
    }
   ],
   "source": [
    "print(l1)\n",
    "l1.append(20)\n",
    "print(l1)\n",
    "l1[0]=10\n",
    "print(l1)\n",
    "# Append l2 at the end of l1\n",
    "l1.extend(l2)\n",
    "print(l1)\n",
    "l3=[1,2,3]\n",
    "l3.append(l2)\n",
    "print(l3)"
   ]
  },
  {
   "cell_type": "markdown",
   "metadata": {
    "slideshow": {
     "slide_type": "subslide"
    }
   },
   "source": [
    "### Tuple\n",
    "\n",
    "A tuple id a kind of list, but it's immutable."
   ]
  },
  {
   "cell_type": "code",
   "execution_count": 8,
   "metadata": {
    "slideshow": {
     "slide_type": "fragment"
    }
   },
   "outputs": [
    {
     "name": "stdout",
     "output_type": "stream",
     "text": [
      "type of t1: <class 'tuple'>, type of t2: <class 'tuple'>\n",
      "First element of t1: 1\n",
      "Len of t2: 3\n"
     ]
    }
   ],
   "source": [
    "t1=(1,2,3)\n",
    "t2=('a','b',4)\n",
    "print('type of t1: %s, type of t2: %s'%(type(t1),type(t2)))\n",
    "print('First element of t1: %i'%t1[0])\n",
    "print('Len of t2: %i'%len(t2))"
   ]
  },
  {
   "cell_type": "markdown",
   "metadata": {
    "slideshow": {
     "slide_type": "subslide"
    }
   },
   "source": [
    "## Dictionary\n",
    "\n",
    "A Dictionary is a collection of key-value couples. In python dictionary are hash tables, so\n",
    "\n",
    "  - Keys are unique\n",
    "  - You can acces an element using is key\n",
    "  "
   ]
  },
  {
   "cell_type": "code",
   "execution_count": 11,
   "metadata": {
    "slideshow": {
     "slide_type": "fragment"
    }
   },
   "outputs": [
    {
     "name": "stdout",
     "output_type": "stream",
     "text": [
      "Type of d1:<class 'dict'> and d2:<class 'dict'>\n",
      "['A', 'B', 'C', 'D', 'E', 'F', 'G', 'H', 'I', 'J', 'K', 'L', 'M', 'N', 'O', 'P', 'Q', 'R', 'S', 'T', 'U', 'V', 'W', 'X', 'Y', 'Z']\n",
      "Using print\n",
      "{'A': 0, 'B': 1, 'C': 2, 'D': 3, 'E': 4, 'F': 5, 'G': 6, 'H': 7, 'I': 8, 'J': 9, 'K': 10, 'L': 11, 'M': 12, 'N': 13, 'O': 14, 'P': 15, 'Q': 16, 'R': 17, 'S': 18, 'T': 19, 'U': 20, 'V': 21, 'W': 22, 'X': 23, 'Y': 24, 'Z': 25}\n",
      "Using pp\n",
      "{'A': 0,\n",
      " 'B': 1,\n",
      " 'C': 2,\n",
      " 'D': 3,\n",
      " 'E': 4,\n",
      " 'F': 5,\n",
      " 'G': 6,\n",
      " 'H': 7,\n",
      " 'I': 8,\n",
      " 'J': 9,\n",
      " 'K': 10,\n",
      " 'L': 11,\n",
      " 'M': 12,\n",
      " 'N': 13,\n",
      " 'O': 14,\n",
      " 'P': 15,\n",
      " 'Q': 16,\n",
      " 'R': 17,\n",
      " 'S': 18,\n",
      " 'T': 19,\n",
      " 'U': 20,\n",
      " 'V': 21,\n",
      " 'W': 22,\n",
      " 'X': 23,\n",
      " 'Y': 24,\n",
      " 'Z': 25}\n"
     ]
    }
   ],
   "source": [
    "d1=dict()\n",
    "d2={'a':1,'b':2,'c':3}\n",
    "print('Type of d1:%s and d2:%s'%(type(d1),type(d2)))\n",
    "# Creation of a list cotaning letters\n",
    "import string\n",
    "letters=list(string.ascii_uppercase)\n",
    "print(letters)\n",
    "d3={letters[i]:i for i in range(0,len(letters))}\n",
    "# Let's use the pp library\n",
    "print('Using print')\n",
    "print(d3)\n",
    "print('Using pp')\n",
    "pp(d3)"
   ]
  },
  {
   "cell_type": "code",
   "execution_count": 14,
   "metadata": {
    "slideshow": {
     "slide_type": "fragment"
    }
   },
   "outputs": [
    {
     "name": "stdout",
     "output_type": "stream",
     "text": [
      "The value for the key \"a\" is 1\n",
      "dict_keys(['a', 'b', 'c'])\n",
      "dict_values([1, 2, 3])\n",
      "Type of ldv: <class 'dict_values'>\n",
      "{'a': 1, 'b': 2, 'c': 3, 'd': 10}\n",
      "{'a': 1, 'b': 2, 'c': 3, 'd': 20}\n",
      "The key 'd' is in d2\n",
      "One liner of if else\n",
      "No 'd' in d2\n"
     ]
    }
   ],
   "source": [
    "# Access  an elemnt in a list\n",
    "print('The value for the key \"a\" is %i'%d2['a'])\n",
    "#Acces the list ok keys and values in the dict\n",
    "print(d2.keys())\n",
    "print(d2.values())\n",
    "ldv=d2.values()\n",
    "print('Type of ldv: %s'%type(ldv))\n",
    "#Add an elemnt in the dictionary\n",
    "d2['d']=10\n",
    "pp(d2)\n",
    "#Replace an elemnt in d2, keys are unique!\n",
    "d2['d']=20\n",
    "pp(d2)\n",
    "#Check in a given key is present in the dict\n",
    "if 'd' in d2:\n",
    "    print(\"The key 'd' is in d2\")\n",
    "else:\n",
    "    print(\"No 'd' in d2\")\n",
    "#Removing and element from the dict\n",
    "del(d2['d'])\n",
    "#FYI you can also make the previous check in one line, line ifelse in R\n",
    "print('One liner of if else')\n",
    "print(\"The key 'd' is in d2\") if 'd1' in d2 else print(\"No 'd' in d2\")"
   ]
  },
  {
   "cell_type": "markdown",
   "metadata": {
    "slideshow": {
     "slide_type": "subslide"
    }
   },
   "source": [
    "## Sets\n",
    "\n",
    "Set are substantially dictionary with only keys and no value.\n",
    "They retains the most important proprities of dictionaries."
   ]
  },
  {
   "cell_type": "code",
   "execution_count": 15,
   "metadata": {
    "slideshow": {
     "slide_type": "fragment"
    }
   },
   "outputs": [
    {
     "name": "stdout",
     "output_type": "stream",
     "text": [
      "Len of s2 is: 3\n",
      "{'c', 'b', 'a', 'd'}\n",
      "{'c', 'b', 'd'}\n"
     ]
    },
    {
     "data": {
      "text/plain": [
       "False"
      ]
     },
     "execution_count": 15,
     "metadata": {},
     "output_type": "execute_result"
    }
   ],
   "source": [
    "s1=set()\n",
    "s2={'a','b','c'}\n",
    "print('Len of s2 is: %i'%len(s2))\n",
    "#Add an element in s2\n",
    "s2.add('d')\n",
    "pp(s2)\n",
    "#Remove an element form s2\n",
    "s2.remove('a')\n",
    "pp(s2)\n",
    "'a'in s2"
   ]
  },
  {
   "cell_type": "markdown",
   "metadata": {
    "slideshow": {
     "slide_type": "fragment"
    }
   },
   "source": [
    "Before moving on with other properties of set, let's understand one of the biggest difference between a set (or a dict) and a list"
   ]
  },
  {
   "cell_type": "code",
   "execution_count": 58,
   "metadata": {
    "slideshow": {
     "slide_type": "fragment"
    }
   },
   "outputs": [
    {
     "name": "stdout",
     "output_type": "stream",
     "text": [
      "Len of longList: 99999\n",
      "Len of longList2: 99999\n",
      "Len on longSet: 99999 type of longSet <class 'set'>\n",
      "Let's compare the execution time of a search in longSet and longList\n",
      "8.06 µs ± 1.46 µs per loop (mean ± std. dev. of 7 runs, 100 loops each)\n",
      "60.8 ns ± 45 ns per loop (mean ± std. dev. of 7 runs, 100 loops each)\n",
      "878 µs ± 45 µs per loop (mean ± std. dev. of 7 runs, 100 loops each)\n",
      "41.1 ns ± 3.39 ns per loop (mean ± std. dev. of 7 runs, 100 loops each)\n"
     ]
    }
   ],
   "source": [
    "#Let's create a long list\n",
    "longList=[i for i in range(1,100000)]\n",
    "print('Len of longList: %i'%len(longList))\n",
    "#In python range returns element up to end-1\n",
    "#This is equivalent to\n",
    "longList2=[]\n",
    "for i in range(1,100000):\n",
    "    longList2.append(i)\n",
    "print('Len of longList2: %i'%len(longList2))\n",
    "#Let's create a long set\n",
    "longSet={i for i in range(1,100000)}\n",
    "print('Len on longSet: %i'%len(longSet),'type of longSet',type(longSet))\n",
    "print(\"Let's compare the execution time of a search in longSet and longList\")\n",
    "%timeit -n 100 500 in longList\n",
    "%timeit -n 100 500 in longSet\n",
    "%timeit -n 100 99999 in longList\n",
    "%timeit -n 100 99999 in longSet"
   ]
  },
  {
   "cell_type": "code",
   "execution_count": 31,
   "metadata": {
    "slideshow": {
     "slide_type": "fragment"
    }
   },
   "outputs": [
    {
     "name": "stdout",
     "output_type": "stream",
     "text": [
      "5 print for the list\n",
      "['pippo', 'pluto', 'minni', 1, 2, 3]\n",
      "['pippo', 'pluto', 'minni', 1, 2, 3]\n",
      "['pippo', 'pluto', 'minni', 1, 2, 3]\n",
      "['pippo', 'pluto', 'minni', 1, 2, 3]\n",
      "['pippo', 'pluto', 'minni', 1, 2, 3]\n",
      "5 print for the set\n",
      "{1, 2, 3, 'pippo', 'pluto', 'minni'}\n",
      "{1, 2, 3, 'pippo', 'pluto', 'minni'}\n",
      "{1, 2, 3, 'pippo', 'pluto', 'minni'}\n",
      "{1, 2, 3, 'pippo', 'pluto', 'minni'}\n",
      "{1, 2, 3, 'pippo', 'pluto', 'minni'}\n"
     ]
    }
   ],
   "source": [
    "#List are ordered structure, dictionary and set are not\n",
    "listTest=['pippo','pluto','minni',1,2,3]\n",
    "setTest={'pippo','pluto','minni',1,2,3}\n",
    "print('5 print for the list')\n",
    "for i in range(0,5):\n",
    "    print(listTest)\n",
    "print('5 print for the set')\n",
    "for i in range(0,5):\n",
    "    print(setTest)"
   ]
  },
  {
   "cell_type": "code",
   "execution_count": 33,
   "metadata": {
    "slideshow": {
     "slide_type": "fragment"
    }
   },
   "outputs": [
    {
     "name": "stdout",
     "output_type": "stream",
     "text": [
      "s2 is a sub set of s1? True\n",
      "s2 is a sub set of s1? True\n",
      "s2 is a sub set of s1? False\n",
      "{2, 3}\n",
      "{1, 4}\n",
      "{1, 4, 5}\n"
     ]
    }
   ],
   "source": [
    "#Others operation on sets\n",
    "s1={1,2,3,4}\n",
    "s2={2,3}\n",
    "s3={2,3,5}\n",
    "print('s2 is a sub set of s1? %s'%s2.issubset(s1))\n",
    "print('s2 is a sub set of s1? %s'%(s2<s1))\n",
    "print('s2 is a sub set of s1? %s'%s3.issubset(s1))\n",
    "pp(s1.intersection(s2))\n",
    "pp(s1.difference(s2))\n",
    "pp(s1.symmetric_difference(s3))"
   ]
  },
  {
   "cell_type": "markdown",
   "metadata": {
    "hideCode": true,
    "slideshow": {
     "slide_type": "fragment"
    }
   },
   "source": [
    "**NOTE:** dictionaries and set are reference"
   ]
  },
  {
   "cell_type": "code",
   "execution_count": 38,
   "metadata": {
    "slideshow": {
     "slide_type": "fragment"
    }
   },
   "outputs": [
    {
     "name": "stdout",
     "output_type": "stream",
     "text": [
      "20 is being added to s1\n",
      "{1, 2, 3, 4, 20}\n",
      "30 is being added to s1copy but not to s1\n",
      "s1copy: {1, 2, 3, 4, 20, 30}\n",
      "s1: {1, 2, 3, 4, 20}\n",
      "{'a': 1, 'b': 2, 'c': 3}\n",
      "d1: {'a': 1, 'b': 2, 'c': 3}\n",
      "d1copy: {'a': 1, 'b': 2, 'c': 3, 'd': 4}\n"
     ]
    }
   ],
   "source": [
    "s1bis=s1\n",
    "s1bis.add(20)\n",
    "#s1bis a pointer to s1\n",
    "print('20 is being added to s1')\n",
    "pp(s1)\n",
    "#s1copy is a new set\n",
    "s1copy=s1.copy()\n",
    "s1copy.add(30)\n",
    "print('30 is being added to s1copy but not to s1')\n",
    "print('s1copy:',s1copy)\n",
    "print('s1:',s1)\n",
    "#This is true also for dict\n",
    "d1={'a':1,'b':2}\n",
    "d1bis=d1\n",
    "d1bis['c']=3\n",
    "pp(d1)\n",
    "d1copy=d1.copy()\n",
    "d1copy['d']=4\n",
    "print('d1:',d1)\n",
    "print('d1copy:',d1copy)"
   ]
  },
  {
   "cell_type": "markdown",
   "metadata": {
    "slideshow": {
     "slide_type": "slide"
    }
   },
   "source": [
    "## Exercise\n",
    "\n",
    "Create a dictionary with some keys and values.\n",
    "\n",
    "Use the value of the dictionary to create a list.\n",
    "\n",
    "Add an element of your choiche at the end of the list.\n",
    "\n",
    "Do the same thing with a tuple."
   ]
  }
 ],
 "metadata": {
  "celltoolbar": "Slideshow",
  "kernelspec": {
   "display_name": "Python 3",
   "language": "python",
   "name": "python3"
  },
  "language_info": {
   "codemirror_mode": {
    "name": "ipython",
    "version": 3
   },
   "file_extension": ".py",
   "mimetype": "text/x-python",
   "name": "python",
   "nbconvert_exporter": "python",
   "pygments_lexer": "ipython3",
   "version": "3.6.5"
  },
  "toc": {
   "base_numbering": 1,
   "nav_menu": {},
   "number_sections": false,
   "sideBar": false,
   "skip_h1_title": false,
   "title_cell": "Table of Contents",
   "title_sidebar": "Contents",
   "toc_cell": false,
   "toc_position": {},
   "toc_section_display": false,
   "toc_window_display": false
  }
 },
 "nbformat": 4,
 "nbformat_minor": 2
}
